{
  "nbformat": 4,
  "nbformat_minor": 0,
  "metadata": {
    "colab": {
      "provenance": [],
      "gpuType": "T4"
    },
    "kernelspec": {
      "name": "python3",
      "display_name": "Python 3"
    },
    "language_info": {
      "name": "python"
    },
    "accelerator": "GPU"
  },
  "cells": [
    {
      "cell_type": "markdown",
      "source": [
        "#PWSKILLS ASSIGNMENT\n",
        "##DEEPLEARNING FRAMEWORKS\n",
        "##THEORY QUESTIONS\n",
        "\n",
        "\n",
        "\n",
        "1. **What is TensorFlow 2.0, and how is it different from TensorFlow 1.x?**\n",
        "\n",
        "* TensorFlow 2.0 is a major update to TensorFlow focused on simplicity and ease of use.\n",
        "  Differences from 1.x:\n",
        "\n",
        "  * *Eager execution* enabled by default (immediate evaluation).\n",
        "  * Tighter integration with Keras.\n",
        "  * Cleaner APIs and removal of redundant functions.\n",
        "\n",
        "\n",
        "\n",
        "2. **How do you install TensorFlow 2.0?**\n",
        "\n",
        "* Use pip:\n",
        "\n",
        "  ```\n",
        "  pip install tensorflow\n",
        "  ```\n",
        "\n",
        "  For GPU support:\n",
        "\n",
        "  ```\n",
        "  pip install tensorflow-gpu\n",
        "  ```\n",
        "\n",
        "\n",
        "\n",
        "3. **What is the primary function of the `tf.function` in TensorFlow 2.0?**\n",
        "\n",
        "* `tf.function` converts a Python function into a TensorFlow graph.\n",
        "  Benefits:\n",
        "\n",
        "  * Faster execution\n",
        "  * Optimized performance\n",
        "\n",
        "\n",
        "\n",
        "4. **What is the purpose of the `Model` class in TensorFlow 2.0?**\n",
        "\n",
        "* The `Model` class represents a neural network architecture.\n",
        "  It manages:\n",
        "\n",
        "  * Layers\n",
        "  * Forward pass\n",
        "  * Training and evaluation logic\n",
        "\n",
        "\n",
        "\n",
        "5. **How do you create a neural network using TensorFlow 2.0?**\n",
        "\n",
        "* Typically using Keras API:\n",
        "\n",
        "  ```python\n",
        "  model = tf.keras.Sequential([\n",
        "      tf.keras.layers.Dense(64, activation='relu'),\n",
        "      tf.keras.layers.Dense(10)\n",
        "  ])\n",
        "  ```\n",
        "\n",
        "  Compile and train:\n",
        "\n",
        "  ```python\n",
        "  model.compile(optimizer='adam', loss='sparse_categorical_crossentropy')\n",
        "  model.fit(x_train, y_train, epochs=5)\n",
        "  ```\n",
        "\n",
        "\n",
        "\n",
        "6. **What is the importance of Tensor Space in TensorFlow?**\n",
        "\n",
        "* Tensor Space refers to the multi-dimensional array structure that underlies all computations.\n",
        "\n",
        "  * Tensors store data.\n",
        "  * Operations manipulate tensors in computational graphs.\n",
        "\n",
        "\n",
        "7. **How can TensorBoard be integrated with TensorFlow 2.0?**\n",
        "\n",
        "* TensorBoard is used for visualization (loss, accuracy, graphs).\n",
        "  Example integration:\n",
        "\n",
        "  ```python\n",
        "  tensorboard_callback = tf.keras.callbacks.TensorBoard(log_dir=\"./logs\")\n",
        "  model.fit(x_train, y_train, epochs=5, callbacks=[tensorboard_callback])\n",
        "  ```\n",
        "\n",
        "  Then run:\n",
        "\n",
        "  ```\n",
        "  tensorboard --logdir=./logs\n",
        "  ```\n",
        "\n",
        "\n",
        "8. **What is the purpose of TensorFlow Playground?**\n",
        "\n",
        "* TensorFlow Playground is a web-based tool to visualize and experiment with small neural networks interactively.\n",
        "  URL: [playground.tensorflow.org](https://playground.tensorflow.org)\n",
        "\n",
        "\n",
        "\n",
        "9. **What is Netron, and how is it useful for deep learning models?**\n",
        "\n",
        "* Netron is a viewer for neural network models.\n",
        "  It helps:\n",
        "\n",
        "  * Visualize model architecture\n",
        "  * Inspect layers and parameters\n",
        "    Supports formats like TensorFlow, PyTorch, Keras.\n",
        "\n",
        "\n",
        "\n",
        "10. **What is the difference between TensorFlow and PyTorch?**\n",
        "\n",
        "* Key differences:\n",
        "\n",
        "  * TensorFlow uses static computation graphs (graph mode); PyTorch uses dynamic computation graphs (eager execution).\n",
        "  * PyTorch is often seen as more *Pythonic* and intuitive.\n",
        "  * TensorFlow has stronger production deployment support (e.g., TF Serving, TF Lite).\n",
        "\n",
        "\n",
        "\n",
        "11. **How do you install PyTorch?**\n",
        "\n",
        "* Use pip (example for CPU):\n",
        "\n",
        "  ```\n",
        "  pip install torch torchvision torchaudio\n",
        "  ```\n",
        "\n",
        "  For GPU, follow [https://pytorch.org](https://pytorch.org) for the correct command based on CUDA version.\n",
        "\n",
        "\n",
        "\n",
        "12. **What is the basic structure of a PyTorch neural network?**\n",
        "\n",
        "* Typically subclass `nn.Module`:\n",
        "\n",
        "  ```python\n",
        "  class Net(nn.Module):\n",
        "      def __init__(self):\n",
        "          super(Net, self).__init__()\n",
        "          self.fc1 = nn.Linear(784, 128)\n",
        "          self.fc2 = nn.Linear(128, 10)\n",
        "\n",
        "      def forward(self, x):\n",
        "          x = F.relu(self.fc1(x))\n",
        "          return self.fc2(x)\n",
        "  ```\n",
        "\n",
        "\n",
        "\n",
        "13. **What is the significance of tensors in PyTorch?**\n",
        "\n",
        "* Tensors are the core data structure.\n",
        "\n",
        "  * N-dimensional arrays\n",
        "  * Support GPU acceleration via CUDA\n",
        "  * Enable automatic differentiation\n",
        "\n",
        "\n",
        "14. **What is the difference between `torch.Tensor` and `torch.cuda.Tensor` in PyTorch?**\n",
        "\n",
        "* `torch.Tensor`: stored in CPU memory.\n",
        "* `torch.cuda.Tensor`: stored in GPU memory.\n",
        "  To move a tensor to GPU:\n",
        "\n",
        "  ```python\n",
        "  tensor = tensor.to('cuda')\n",
        "  ```\n",
        "\n",
        "\n",
        "\n",
        "15. **What is the purpose of the `torch.optim` module in PyTorch?**\n",
        "\n",
        "* Provides optimization algorithms for training.\n",
        "  Examples:\n",
        "\n",
        "  * SGD\n",
        "  * Adam\n",
        "  * RMSprop\n",
        "    Usage:\n",
        "\n",
        "  ```python\n",
        "  optimizer = torch.optim.Adam(model.parameters(), lr=0.001)\n",
        "  ```\n",
        "\n",
        "\n",
        "\n",
        "16. **What are some common activation functions used in neural networks?**\n",
        "\n",
        "* Common activations:\n",
        "\n",
        "  * ReLU\n",
        "  * Sigmoid\n",
        "  * Tanh\n",
        "  * Softmax\n",
        "  * Leaky ReLU\n",
        "\n",
        "\n",
        "\n",
        "17. **What is the difference between `torch.nn.Module` and `torch.nn.Sequential` in PyTorch?**\n",
        "\n",
        "* `nn.Module`: allows defining custom forward logic.\n",
        "* `nn.Sequential`: simpler container where layers are applied in order.\n",
        "  Example:\n",
        "\n",
        "  ```python\n",
        "  model = nn.Sequential(\n",
        "      nn.Linear(784, 128),\n",
        "      nn.ReLU(),\n",
        "      nn.Linear(128, 10)\n",
        "  )\n",
        "  ```\n",
        "\n",
        "\n",
        "18. **How can you monitor training progress in TensorFlow 2.0?**\n",
        "\n",
        "* Use callbacks like `TensorBoard`, `EarlyStopping`, or print metrics during training.\n",
        "  Example:\n",
        "\n",
        "  ```python\n",
        "  callbacks = [\n",
        "      tf.keras.callbacks.TensorBoard(log_dir=\"./logs\"),\n",
        "      tf.keras.callbacks.EarlyStopping(patience=3)\n",
        "  ]\n",
        "  ```\n",
        "\n",
        "\n",
        "\n",
        "19. **How does the Keras API fit into TensorFlow 2.0?**\n",
        "\n",
        "* Keras is the official high-level API in TensorFlow 2.0.\n",
        "\n",
        "  * Easy model building\n",
        "  * Preprocessing\n",
        "  * Training and evaluation tools\n",
        "    Available via:\n",
        "\n",
        "  ```python\n",
        "  import tensorflow as tf\n",
        "  tf.keras\n",
        "  ```\n",
        "\n",
        "\n",
        "\n",
        "20. **What is an example of a deep learning project that can be implemented using TensorFlow 2.0?**\n",
        "\n",
        "* Image classification with CNNs on MNIST or CIFAR-10 datasets.\n",
        "  Example steps:\n",
        "\n",
        "  * Load data\n",
        "  * Define a Keras model\n",
        "  * Compile and train\n",
        "  * Evaluate performance\n",
        "\n",
        "\n",
        "\n",
        "\n",
        "21. **What is the main advantage of using pre-trained models in TensorFlow and PyTorch?**\n",
        "\n",
        "* They allow you to leverage existing knowledge learned from large datasets:\n",
        "\n",
        "  * Faster training\n",
        "  * Improved accuracy\n",
        "  * Useful for transfer learning\n",
        "\n",
        "\n"
      ],
      "metadata": {
        "id": "AgD2ocBKVga5"
      }
    },
    {
      "cell_type": "markdown",
      "source": [
        "#PRACTICAL QUESTIONS"
      ],
      "metadata": {
        "id": "CcDkzlAFW195"
      }
    },
    {
      "cell_type": "code",
      "execution_count": 1,
      "metadata": {
        "colab": {
          "base_uri": "https://localhost:8080/"
        },
        "id": "lNBfJ46ZVR_6",
        "outputId": "69d5ee13-d14b-4220-b07c-c0f5f5d87924"
      },
      "outputs": [
        {
          "output_type": "stream",
          "name": "stdout",
          "text": [
            "TensorFlow version: 2.18.0\n"
          ]
        }
      ],
      "source": [
        "# 1. How do you install and verify that TensorFlow 2.0 was installed successfully?\n",
        "\n",
        "# Install TensorFlow (uncomment if needed)\n",
        "# !pip install tensorflow\n",
        "\n",
        "# Verify installation\n",
        "import tensorflow as tf\n",
        "print(\"TensorFlow version:\", tf.__version__)\n"
      ]
    },
    {
      "cell_type": "code",
      "source": [
        "# 2. How can you define a simple function in TensorFlow 2.0 to perform addition?\n",
        "\n",
        "import tensorflow as tf\n",
        "\n",
        "@tf.function\n",
        "def add_numbers(x, y):\n",
        "    return x + y\n",
        "\n",
        "result = add_numbers(tf.constant(5), tf.constant(7))\n",
        "tf.print(\"Sum:\", result)\n"
      ],
      "metadata": {
        "colab": {
          "base_uri": "https://localhost:8080/"
        },
        "id": "hkuz7ArBXVJs",
        "outputId": "98abaab3-d097-4350-c173-e4e2c433b080"
      },
      "execution_count": 1,
      "outputs": [
        {
          "output_type": "stream",
          "name": "stdout",
          "text": [
            "Sum: 12\n"
          ]
        }
      ]
    },
    {
      "cell_type": "code",
      "source": [
        "# 3. How can you create a simple neural network in TensorFlow 2.0 with one hidden layer?\n",
        "\n",
        "import tensorflow as tf\n",
        "\n",
        "model = tf.keras.Sequential([\n",
        "    tf.keras.layers.Dense(16, activation='relu', input_shape=(4,)),\n",
        "    tf.keras.layers.Dense(3)\n",
        "])\n",
        "\n",
        "model.compile(optimizer='adam', loss=tf.keras.losses.SparseCategoricalCrossentropy(from_logits=True))\n",
        "print(model.summary())\n"
      ],
      "metadata": {
        "colab": {
          "base_uri": "https://localhost:8080/",
          "height": 265
        },
        "id": "lpKXWgCAXeVE",
        "outputId": "96588368-ce10-4ef2-b3d2-0e72f5da2004"
      },
      "execution_count": 2,
      "outputs": [
        {
          "output_type": "stream",
          "name": "stderr",
          "text": [
            "/usr/local/lib/python3.11/dist-packages/keras/src/layers/core/dense.py:87: UserWarning: Do not pass an `input_shape`/`input_dim` argument to a layer. When using Sequential models, prefer using an `Input(shape)` object as the first layer in the model instead.\n",
            "  super().__init__(activity_regularizer=activity_regularizer, **kwargs)\n"
          ]
        },
        {
          "output_type": "display_data",
          "data": {
            "text/plain": [
              "\u001b[1mModel: \"sequential\"\u001b[0m\n"
            ],
            "text/html": [
              "<pre style=\"white-space:pre;overflow-x:auto;line-height:normal;font-family:Menlo,'DejaVu Sans Mono',consolas,'Courier New',monospace\"><span style=\"font-weight: bold\">Model: \"sequential\"</span>\n",
              "</pre>\n"
            ]
          },
          "metadata": {}
        },
        {
          "output_type": "display_data",
          "data": {
            "text/plain": [
              "┏━━━━━━━━━━━━━━━━━━━━━━━━━━━━━━━━━┳━━━━━━━━━━━━━━━━━━━━━━━━┳━━━━━━━━━━━━━━━┓\n",
              "┃\u001b[1m \u001b[0m\u001b[1mLayer (type)                   \u001b[0m\u001b[1m \u001b[0m┃\u001b[1m \u001b[0m\u001b[1mOutput Shape          \u001b[0m\u001b[1m \u001b[0m┃\u001b[1m \u001b[0m\u001b[1m      Param #\u001b[0m\u001b[1m \u001b[0m┃\n",
              "┡━━━━━━━━━━━━━━━━━━━━━━━━━━━━━━━━━╇━━━━━━━━━━━━━━━━━━━━━━━━╇━━━━━━━━━━━━━━━┩\n",
              "│ dense (\u001b[38;5;33mDense\u001b[0m)                   │ (\u001b[38;5;45mNone\u001b[0m, \u001b[38;5;34m16\u001b[0m)             │            \u001b[38;5;34m80\u001b[0m │\n",
              "├─────────────────────────────────┼────────────────────────┼───────────────┤\n",
              "│ dense_1 (\u001b[38;5;33mDense\u001b[0m)                 │ (\u001b[38;5;45mNone\u001b[0m, \u001b[38;5;34m3\u001b[0m)              │            \u001b[38;5;34m51\u001b[0m │\n",
              "└─────────────────────────────────┴────────────────────────┴───────────────┘\n"
            ],
            "text/html": [
              "<pre style=\"white-space:pre;overflow-x:auto;line-height:normal;font-family:Menlo,'DejaVu Sans Mono',consolas,'Courier New',monospace\">┏━━━━━━━━━━━━━━━━━━━━━━━━━━━━━━━━━┳━━━━━━━━━━━━━━━━━━━━━━━━┳━━━━━━━━━━━━━━━┓\n",
              "┃<span style=\"font-weight: bold\"> Layer (type)                    </span>┃<span style=\"font-weight: bold\"> Output Shape           </span>┃<span style=\"font-weight: bold\">       Param # </span>┃\n",
              "┡━━━━━━━━━━━━━━━━━━━━━━━━━━━━━━━━━╇━━━━━━━━━━━━━━━━━━━━━━━━╇━━━━━━━━━━━━━━━┩\n",
              "│ dense (<span style=\"color: #0087ff; text-decoration-color: #0087ff\">Dense</span>)                   │ (<span style=\"color: #00d7ff; text-decoration-color: #00d7ff\">None</span>, <span style=\"color: #00af00; text-decoration-color: #00af00\">16</span>)             │            <span style=\"color: #00af00; text-decoration-color: #00af00\">80</span> │\n",
              "├─────────────────────────────────┼────────────────────────┼───────────────┤\n",
              "│ dense_1 (<span style=\"color: #0087ff; text-decoration-color: #0087ff\">Dense</span>)                 │ (<span style=\"color: #00d7ff; text-decoration-color: #00d7ff\">None</span>, <span style=\"color: #00af00; text-decoration-color: #00af00\">3</span>)              │            <span style=\"color: #00af00; text-decoration-color: #00af00\">51</span> │\n",
              "└─────────────────────────────────┴────────────────────────┴───────────────┘\n",
              "</pre>\n"
            ]
          },
          "metadata": {}
        },
        {
          "output_type": "display_data",
          "data": {
            "text/plain": [
              "\u001b[1m Total params: \u001b[0m\u001b[38;5;34m131\u001b[0m (524.00 B)\n"
            ],
            "text/html": [
              "<pre style=\"white-space:pre;overflow-x:auto;line-height:normal;font-family:Menlo,'DejaVu Sans Mono',consolas,'Courier New',monospace\"><span style=\"font-weight: bold\"> Total params: </span><span style=\"color: #00af00; text-decoration-color: #00af00\">131</span> (524.00 B)\n",
              "</pre>\n"
            ]
          },
          "metadata": {}
        },
        {
          "output_type": "display_data",
          "data": {
            "text/plain": [
              "\u001b[1m Trainable params: \u001b[0m\u001b[38;5;34m131\u001b[0m (524.00 B)\n"
            ],
            "text/html": [
              "<pre style=\"white-space:pre;overflow-x:auto;line-height:normal;font-family:Menlo,'DejaVu Sans Mono',consolas,'Courier New',monospace\"><span style=\"font-weight: bold\"> Trainable params: </span><span style=\"color: #00af00; text-decoration-color: #00af00\">131</span> (524.00 B)\n",
              "</pre>\n"
            ]
          },
          "metadata": {}
        },
        {
          "output_type": "display_data",
          "data": {
            "text/plain": [
              "\u001b[1m Non-trainable params: \u001b[0m\u001b[38;5;34m0\u001b[0m (0.00 B)\n"
            ],
            "text/html": [
              "<pre style=\"white-space:pre;overflow-x:auto;line-height:normal;font-family:Menlo,'DejaVu Sans Mono',consolas,'Courier New',monospace\"><span style=\"font-weight: bold\"> Non-trainable params: </span><span style=\"color: #00af00; text-decoration-color: #00af00\">0</span> (0.00 B)\n",
              "</pre>\n"
            ]
          },
          "metadata": {}
        },
        {
          "output_type": "stream",
          "name": "stdout",
          "text": [
            "None\n"
          ]
        }
      ]
    },
    {
      "cell_type": "code",
      "source": [
        "# 4. How can you visualize the training progress using TensorFlow and Matplotlib?\n",
        "\n",
        "import tensorflow as tf\n",
        "import matplotlib.pyplot as plt\n",
        "\n",
        "# Load sample data\n",
        "(x_train, y_train), _ = tf.keras.datasets.mnist.load_data()\n",
        "x_train = x_train.reshape(-1, 28*28) / 255.0\n",
        "\n",
        "model = tf.keras.Sequential([\n",
        "    tf.keras.layers.Dense(32, activation='relu'),\n",
        "    tf.keras.layers.Dense(10)\n",
        "])\n",
        "\n",
        "model.compile(optimizer='adam', loss=tf.keras.losses.SparseCategoricalCrossentropy(from_logits=True))\n",
        "\n",
        "history = model.fit(x_train, y_train, epochs=5)\n",
        "\n",
        "# Plot training loss\n",
        "plt.plot(history.history['loss'])\n",
        "plt.xlabel('Epoch')\n",
        "plt.ylabel('Loss')\n",
        "plt.title('Training Loss')\n",
        "plt.show()\n"
      ],
      "metadata": {
        "colab": {
          "base_uri": "https://localhost:8080/",
          "height": 680
        },
        "id": "ZlHbNnkQXfxY",
        "outputId": "d4838d9e-5fd8-4cfb-ca3f-3eeffff52c68"
      },
      "execution_count": 3,
      "outputs": [
        {
          "output_type": "stream",
          "name": "stdout",
          "text": [
            "Downloading data from https://storage.googleapis.com/tensorflow/tf-keras-datasets/mnist.npz\n",
            "\u001b[1m11490434/11490434\u001b[0m \u001b[32m━━━━━━━━━━━━━━━━━━━━\u001b[0m\u001b[37m\u001b[0m \u001b[1m0s\u001b[0m 0us/step\n",
            "Epoch 1/5\n",
            "\u001b[1m1875/1875\u001b[0m \u001b[32m━━━━━━━━━━━━━━━━━━━━\u001b[0m\u001b[37m\u001b[0m \u001b[1m7s\u001b[0m 3ms/step - loss: 0.5798\n",
            "Epoch 2/5\n",
            "\u001b[1m1875/1875\u001b[0m \u001b[32m━━━━━━━━━━━━━━━━━━━━\u001b[0m\u001b[37m\u001b[0m \u001b[1m9s\u001b[0m 2ms/step - loss: 0.2138\n",
            "Epoch 3/5\n",
            "\u001b[1m1875/1875\u001b[0m \u001b[32m━━━━━━━━━━━━━━━━━━━━\u001b[0m\u001b[37m\u001b[0m \u001b[1m5s\u001b[0m 3ms/step - loss: 0.1588\n",
            "Epoch 4/5\n",
            "\u001b[1m1875/1875\u001b[0m \u001b[32m━━━━━━━━━━━━━━━━━━━━\u001b[0m\u001b[37m\u001b[0m \u001b[1m5s\u001b[0m 2ms/step - loss: 0.1263\n",
            "Epoch 5/5\n",
            "\u001b[1m1875/1875\u001b[0m \u001b[32m━━━━━━━━━━━━━━━━━━━━\u001b[0m\u001b[37m\u001b[0m \u001b[1m7s\u001b[0m 3ms/step - loss: 0.1090\n"
          ]
        },
        {
          "output_type": "display_data",
          "data": {
            "text/plain": [
              "<Figure size 640x480 with 1 Axes>"
            ],
            "image/png": "[encoded data removed]"
          },
          "metadata": {}
        }
      ]
    },
    {
      "cell_type": "code",
      "source": [
        "# 5. How do you install PyTorch and verify the PyTorch installation?\n",
        "\n",
        "# Install PyTorch (uncomment if needed)\n",
        "# !pip install torch torchvision\n",
        "\n",
        "import torch\n",
        "print(\"PyTorch version:\", torch.__version__)\n",
        "print(\"CUDA available:\", torch.cuda.is_available())\n"
      ],
      "metadata": {
        "colab": {
          "base_uri": "https://localhost:8080/"
        },
        "id": "GuXP9i2GXhBx",
        "outputId": "7f071b0d-af71-40c3-c7b8-bb1ceed3b925"
      },
      "execution_count": 4,
      "outputs": [
        {
          "output_type": "stream",
          "name": "stdout",
          "text": [
            "PyTorch version: 2.6.0+cu124\n",
            "CUDA available: True\n"
          ]
        }
      ]
    },
    {
      "cell_type": "code",
      "source": [
        "# 6. How do you create a simple neural network in PyTorch?\n",
        "\n",
        "import torch\n",
        "import torch.nn as nn\n",
        "import torch.nn.functional as F\n",
        "\n",
        "class SimpleNet(nn.Module):\n",
        "    def __init__(self):\n",
        "        super(SimpleNet, self).__init__()\n",
        "        self.fc1 = nn.Linear(4, 16)\n",
        "        self.fc2 = nn.Linear(16, 3)\n",
        "\n",
        "    def forward(self, x):\n",
        "        x = F.relu(self.fc1(x))\n",
        "        return self.fc2(x)\n",
        "\n",
        "model = SimpleNet()\n",
        "print(model)\n"
      ],
      "metadata": {
        "colab": {
          "base_uri": "https://localhost:8080/"
        },
        "id": "Mu0sTrFhXiJm",
        "outputId": "26d7afec-1365-4e46-e82f-6f085a76d22c"
      },
      "execution_count": 5,
      "outputs": [
        {
          "output_type": "stream",
          "name": "stdout",
          "text": [
            "SimpleNet(\n",
            "  (fc1): Linear(in_features=4, out_features=16, bias=True)\n",
            "  (fc2): Linear(in_features=16, out_features=3, bias=True)\n",
            ")\n"
          ]
        }
      ]
    },
    {
      "cell_type": "code",
      "source": [
        "# 7. How do you define a loss function and optimizer in PyTorch?\n",
        "\n",
        "import torch.optim as optim\n",
        "\n",
        "criterion = nn.CrossEntropyLoss()\n",
        "optimizer = optim.Adam(model.parameters(), lr=0.001)\n",
        "\n",
        "print(\"Loss function:\", criterion)\n",
        "print(\"Optimizer:\", optimizer)\n"
      ],
      "metadata": {
        "colab": {
          "base_uri": "https://localhost:8080/"
        },
        "id": "W5ck18rAXjSD",
        "outputId": "c49a181c-d3fc-4e2f-f188-7fbda37d44ee"
      },
      "execution_count": 6,
      "outputs": [
        {
          "output_type": "stream",
          "name": "stdout",
          "text": [
            "Loss function: CrossEntropyLoss()\n",
            "Optimizer: Adam (\n",
            "Parameter Group 0\n",
            "    amsgrad: False\n",
            "    betas: (0.9, 0.999)\n",
            "    capturable: False\n",
            "    differentiable: False\n",
            "    eps: 1e-08\n",
            "    foreach: None\n",
            "    fused: None\n",
            "    lr: 0.001\n",
            "    maximize: False\n",
            "    weight_decay: 0\n",
            ")\n"
          ]
        }
      ]
    },
    {
      "cell_type": "code",
      "source": [
        "# 8. How do you implement a custom loss function in PyTorch?\n",
        "\n",
        "def custom_mae_loss(output, target):\n",
        "    return torch.mean(torch.abs(output - target))\n",
        "\n",
        "# Example tensors\n",
        "output = torch.tensor([[0.2, 0.5], [0.6, 0.1]])\n",
        "target = torch.tensor([[0.0, 1.0], [1.0, 0.0]])\n",
        "\n",
        "loss = custom_mae_loss(output, target)\n",
        "print(\"Custom MAE Loss:\", loss.item())\n"
      ],
      "metadata": {
        "colab": {
          "base_uri": "https://localhost:8080/"
        },
        "id": "TJY5_4p0Xkbw",
        "outputId": "8a0c188e-1994-4c43-cb81-c4088f237361"
      },
      "execution_count": 7,
      "outputs": [
        {
          "output_type": "stream",
          "name": "stdout",
          "text": [
            "Custom MAE Loss: 0.29999998211860657\n"
          ]
        }
      ]
    },
    {
      "cell_type": "code",
      "source": [
        "# 9. How do you save and load a TensorFlow model?\n",
        "\n",
        "\n",
        "import tensorflow as tf\n",
        "\n",
        "# Create example model\n",
        "model = tf.keras.Sequential([\n",
        "    tf.keras.layers.Input(shape=(8,)),\n",
        "    tf.keras.layers.Dense(10, activation='relu'),\n",
        "    tf.keras.layers.Dense(1)\n",
        "])\n",
        "\n",
        "model.compile(optimizer='adam', loss='mse')\n",
        "\n",
        "# Save model in Keras format\n",
        "model.save('saved_model_example.keras')\n",
        "\n",
        "# Load model\n",
        "loaded_model = tf.keras.models.load_model('saved_model_example.keras')\n",
        "print(\"Model loaded successfully!\")\n",
        "\n"
      ],
      "metadata": {
        "colab": {
          "base_uri": "https://localhost:8080/"
        },
        "id": "ZriUTF8UXlfH",
        "outputId": "ec4f50c9-75b4-463e-bcb9-555977a28aae"
      },
      "execution_count": 9,
      "outputs": [
        {
          "output_type": "stream",
          "name": "stdout",
          "text": [
            "Model loaded successfully!\n"
          ]
        },
        {
          "output_type": "stream",
          "name": "stderr",
          "text": [
            "/usr/local/lib/python3.11/dist-packages/keras/src/saving/saving_lib.py:757: UserWarning: Skipping variable loading for optimizer 'adam', because it has 10 variables whereas the saved optimizer has 2 variables. \n",
            "  saveable.load_own_variables(weights_store.get(inner_path))\n"
          ]
        }
      ]
    },
    {
      "cell_type": "markdown",
      "source": [
        "#THANK YOU"
      ],
      "metadata": {
        "id": "ijKLJzEhX8su"
      }
    },
    {
      "cell_type": "code",
      "source": [],
      "metadata": {
        "id": "dIl52dqoXmgB"
      },
      "execution_count": null,
      "outputs": []
    }
  ]
}